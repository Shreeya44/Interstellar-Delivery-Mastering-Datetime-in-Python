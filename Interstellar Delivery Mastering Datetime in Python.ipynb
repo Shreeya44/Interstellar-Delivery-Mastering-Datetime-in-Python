{
 "cells": [
  {
   "cell_type": "markdown",
   "id": "d829c45b",
   "metadata": {},
   "source": [
    "You recently quit your job to start a space logistics company that uses rockets to deliver critical cargo to colonies on demand. Since you're still in the startup phase, you're handling everything yourself, including writing the software to manage complex scheduling and timing across different space colonies.\n",
    "\n",
    "Before developing a full rocket flight planning and logistics system, you want to create core functions using Python's datetime module to handle dates, times, and durations. These basic functions are essential for your rocket delivery service. In this project, you will make simple reusable functions for working with timestamps, calculating rocket landing times based on launch and travel duration, and figuring out days until a delivery deadline to keep those customers updated!\n"
   ]
  },
  {
   "cell_type": "code",
   "execution_count": 1,
   "id": "8c867a87",
   "metadata": {},
   "outputs": [],
   "source": [
    "from datetime import datetime, timedelta\n",
    "# Define format_date function accepting timestamp and datetime format \n",
    "def format_timestamp(timestamp):\n",
    "    \n",
    "    return timestamp.strftime('%Y-%m-%d %H:%M:%S')"
   ]
  },
  {
   "cell_type": "code",
   "execution_count": 2,
   "id": "fe55db1d",
   "metadata": {},
   "outputs": [],
   "source": [
    "# Define calculate_landing_time function accepting launch datetime and travel duration\n",
    "# launch_time: The launch datetime , travel_duration : Duration of travel in days\n",
    "def calculate_landing_time(launch_time, travel_duration):\n",
    "    landing_date = launch_time + timedelta(days=travel_duration)\n",
    "    return landing_date.strftime(\"%d-%m-%Y\")\n"
   ]
  },
  {
   "cell_type": "code",
   "execution_count": 3,
   "id": "e957186d",
   "metadata": {},
   "outputs": [],
   "source": [
    "# Define days_until_delivery function accepting expected and current datetimes\n",
    "# current_datetime (datetime): Current date and time, deadline_datetime (datetime): Deadline date and time\n",
    "def days_until_deadline(current_datetime, deadline_datetime):\n",
    "   \n",
    "    days_remaining = (deadline_datetime.date() - current_datetime.date()).days\n",
    "    return max(0, days_remaining)"
   ]
  },
  {
   "cell_type": "code",
   "execution_count": 4,
   "id": "810fc822",
   "metadata": {},
   "outputs": [
    {
     "name": "stdout",
     "output_type": "stream",
     "text": [
      "Formatted Timestamp: 2024-12-01 12:45:06\n",
      "Rocket Landing Time: 04-12-2024\n",
      "Current Datetime: 2024-12-01 12:45:06.511276\n",
      "Launch Datetime: 2024-12-01 12:00:00\n",
      "Landing Datetime: 2024-12-04 12:00:00\n",
      "Expected Delivery Datetime: 2024-12-12 00:00:00\n",
      "Days Until Delivery: 11\n"
     ]
    }
   ],
   "source": [
    "def main():\n",
    "    # Get current timestamp\n",
    "    current_time = datetime.now()\n",
    "    \n",
    "    # Format and print current timestamp\n",
    "    formatted_timestamp = format_timestamp(current_time)\n",
    "    print(\"Formatted Timestamp:\", formatted_timestamp)\n",
    "    \n",
    "    # Calculate rocket landing time\n",
    "    launch_time = datetime(2024, 12, 1, 12, 0, 0)\n",
    "    travel_duration = 3  # Travel duration in days\n",
    "    landing_time = calculate_landing_time(launch_time, travel_duration)\n",
    "    print(\"Rocket Landing Time:\", landing_time)\n",
    "    \n",
    "    # Calculate days until delivery deadline\n",
    "    landing_datetime = launch_time + timedelta(days=travel_duration)\n",
    "    expected_delivery_datetime = datetime(2024, 12, 12)\n",
    "    \n",
    "    print(\"Current Datetime:\", current_time)\n",
    "    print(\"Launch Datetime:\", launch_time)\n",
    "    print(\"Landing Datetime:\", landing_datetime)\n",
    "    print(\"Expected Delivery Datetime:\", expected_delivery_datetime)\n",
    "    \n",
    "    # Calculate days until delivery\n",
    "    days_remaining = days_until_deadline(current_time, expected_delivery_datetime)\n",
    "    print(\"Days Until Delivery:\", days_remaining)\n",
    "\n",
    "if __name__ == \"__main__\":\n",
    "    main()"
   ]
  }
 ],
 "metadata": {
  "kernelspec": {
   "display_name": "Python 3 (ipykernel)",
   "language": "python",
   "name": "python3"
  },
  "language_info": {
   "codemirror_mode": {
    "name": "ipython",
    "version": 3
   },
   "file_extension": ".py",
   "mimetype": "text/x-python",
   "name": "python",
   "nbconvert_exporter": "python",
   "pygments_lexer": "ipython3",
   "version": "3.9.13"
  }
 },
 "nbformat": 4,
 "nbformat_minor": 5
}
